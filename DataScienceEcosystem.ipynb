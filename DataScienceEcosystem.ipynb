{
 "cells": [
  {
   "cell_type": "markdown",
   "id": "3a4ccbf1-4cb8-4672-bc36-deb4cb4205c7",
   "metadata": {},
   "source": [
    "# Data Science Tools and Ecosystem #"
   ]
  },
  {
   "cell_type": "markdown",
   "id": "9205cb7d-d2f6-4724-bc96-5c37fca83f62",
   "metadata": {},
   "source": [
    "In this notebook, Data Science Tools and Ecosystem are summarized."
   ]
  },
  {
   "cell_type": "markdown",
   "id": "f131865c-d9e5-4dc2-8891-e65b1f8c4d0d",
   "metadata": {},
   "source": [
    "**Objectives:**\n",
    "* Some of the popular languages that Data Scientists\n",
    "* Some of the commonly used libraries used by Data Scientists\n",
    "* Data Science Tools\n",
    "* Examples of evaluating arithmetic expressions in Python"
   ]
  },
  {
   "cell_type": "markdown",
   "id": "981e12b1-0e57-42a3-930e-988bc9f47ca9",
   "metadata": {},
   "source": [
    "Some of the popular languages that Data Scientists use are:\n",
    "1. Python\n",
    "2. SQL\n",
    "3. R"
   ]
  },
  {
   "cell_type": "markdown",
   "id": "fb1f5054-e353-40a8-9cc2-0ee75121a31b",
   "metadata": {},
   "source": [
    "Some of the commonly used libraries used by Data Scientists include:\n",
    "1. Numpy\n",
    "2. Pandas\n",
    "3. GGPlot\n",
    "4. SciKit Learn"
   ]
  },
  {
   "cell_type": "markdown",
   "id": "86c22e2f-6d66-47f2-a16b-efef0b6cffef",
   "metadata": {},
   "source": [
    "|Data Science Tools|\n",
    "|------------------|\n",
    "|VSCode|\n",
    "|Jupyter Notebook|\n",
    "|Anaconda|"
   ]
  },
  {
   "cell_type": "markdown",
   "id": "cd0851e6-611e-414b-8063-4da05a73099f",
   "metadata": {},
   "source": [
    "### Below are a few examples of evaluating arithmetic expressions in Python ###"
   ]
  },
  {
   "cell_type": "code",
   "execution_count": 3,
   "id": "5e885b5a-74b0-4449-be7c-1bb25a761d47",
   "metadata": {},
   "outputs": [
    {
     "data": {
      "text/plain": [
       "17"
      ]
     },
     "execution_count": 3,
     "metadata": {},
     "output_type": "execute_result"
    }
   ],
   "source": [
    "#This a simple arithmetic expression to mutiply then add integers\n",
    "(3*4)+5"
   ]
  },
  {
   "cell_type": "code",
   "execution_count": 4,
   "id": "f43d3206-c7dd-4a7a-a8c8-71938c85e931",
   "metadata": {},
   "outputs": [
    {
     "data": {
      "text/plain": [
       "3.3333333333333335"
      ]
     },
     "execution_count": 4,
     "metadata": {},
     "output_type": "execute_result"
    }
   ],
   "source": [
    "#This will convert 200 minutes to hours by diving by 60\n",
    "200/60"
   ]
  },
  {
   "cell_type": "markdown",
   "id": "67ec5209-7013-46c7-850c-ac3b194b5d1b",
   "metadata": {},
   "source": [
    "## Author ##\n",
    "Gaurab Kumar"
   ]
  },
  {
   "cell_type": "code",
   "execution_count": null,
   "id": "4a4690da-0453-45d4-be8b-5af98c3a8f39",
   "metadata": {},
   "outputs": [],
   "source": []
  }
 ],
 "metadata": {
  "kernelspec": {
   "display_name": "Python 3",
   "language": "python",
   "name": "python3"
  },
  "language_info": {
   "codemirror_mode": {
    "name": "ipython",
    "version": 3
   },
   "file_extension": ".py",
   "mimetype": "text/x-python",
   "name": "python",
   "nbconvert_exporter": "python",
   "pygments_lexer": "ipython3",
   "version": "3.13.8"
  }
 },
 "nbformat": 4,
 "nbformat_minor": 5
}
